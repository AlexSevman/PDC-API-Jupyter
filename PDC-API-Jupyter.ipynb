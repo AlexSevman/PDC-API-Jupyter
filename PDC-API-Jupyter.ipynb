{
 "cells": [
  {
   "cell_type": "markdown",
   "metadata": {},
   "source": [
    "# Import Libraries"
   ]
  },
  {
   "cell_type": "code",
   "execution_count": 1,
   "metadata": {},
   "outputs": [],
   "source": [
    "\n",
    "import requests\n",
    "import pandas as pd\n",
    "import json\n",
    "import seaborn as sns\n",
    "import matplotlib.pyplot as plt\n",
    "from scipy.stats import zscore\n",
    "import openpyxl\n",
    "import xlsxwriter\n"
   ]
  },
  {
   "cell_type": "markdown",
   "metadata": {},
   "source": [
    "# Dependencies"
   ]
  },
  {
   "cell_type": "code",
   "execution_count": 2,
   "metadata": {},
   "outputs": [],
   "source": [
    "import dependency_function_pdc\n",
    "from dependency_function_pdc import query_pdc # function to retrieve data\n",
    "import dependency_query # import queries list and subfunctions\n",
    "from dependency_query import *\n",
    "import dependency_headers\n",
    "from dependency_headers import *\n",
    "import dependency_for_loops\n",
    "from dependency_for_loops import *"
   ]
  },
  {
   "cell_type": "markdown",
   "metadata": {},
   "source": [
    "# Define variables and url"
   ]
  },
  {
   "cell_type": "code",
   "execution_count": null,
   "metadata": {},
   "outputs": [],
   "source": [
    "variables = {\n",
    "    \"pdc_study_identifier\": \"PDC000585\", # Introdouce study identifier\n",
    "    \"offset\": 0, # set offset records to pull\n",
    "    \"limit\": 27000,  # limit number of records, max 27000\n",
    "}"
   ]
  },
  {
   "cell_type": "markdown",
   "metadata": {},
   "source": [
    "# Program - Project"
   ]
  },
  {
   "cell_type": "code",
   "execution_count": 7,
   "metadata": {},
   "outputs": [
    {
     "name": "stdout",
     "output_type": "stream",
     "text": [
      "Sending query.\n"
     ]
    }
   ],
   "source": [
    "study_data = query_pdc(query= query_study_info, variables=variables)\n",
    "matrix = json.loads(study_data.content)['data']['study']\n",
    "study_df = pd.DataFrame(matrix)\n",
    "program_project = study_df[program_project_header].transpose()\n",
    "program_project.columns = ['name']\n",
    "program_project[\" \"] = program_project.index\n",
    "program_project = program_project.reindex(columns=[' ', 'name'])"
   ]
  },
  {
   "cell_type": "code",
   "execution_count": 5,
   "metadata": {},
   "outputs": [
    {
     "data": {
      "application/vnd.microsoft.datawrangler.viewer.v0+json": {
       "columns": [
        {
         "name": "index",
         "rawType": "object",
         "type": "string"
        },
        {
         "name": " ",
         "rawType": "object",
         "type": "string"
        },
        {
         "name": "name",
         "rawType": "object",
         "type": "string"
        }
       ],
       "ref": "418da604-e52e-4758-bf8f-eb4315334cd2",
       "rows": [
        [
         "program_name",
         "program_name",
         "Applied Proteogenomics OrganizationaL Learning and Outcomes - APOLLO"
        ],
        [
         "project_name",
         "project_name",
         "APOLLO-OV"
        ]
       ],
       "shape": {
        "columns": 2,
        "rows": 2
       }
      },
      "text/html": [
       "<div>\n",
       "<style scoped>\n",
       "    .dataframe tbody tr th:only-of-type {\n",
       "        vertical-align: middle;\n",
       "    }\n",
       "\n",
       "    .dataframe tbody tr th {\n",
       "        vertical-align: top;\n",
       "    }\n",
       "\n",
       "    .dataframe thead th {\n",
       "        text-align: right;\n",
       "    }\n",
       "</style>\n",
       "<table border=\"1\" class=\"dataframe\">\n",
       "  <thead>\n",
       "    <tr style=\"text-align: right;\">\n",
       "      <th></th>\n",
       "      <th></th>\n",
       "      <th>name</th>\n",
       "    </tr>\n",
       "  </thead>\n",
       "  <tbody>\n",
       "    <tr>\n",
       "      <th>program_name</th>\n",
       "      <td>program_name</td>\n",
       "      <td>Applied Proteogenomics OrganizationaL Learning...</td>\n",
       "    </tr>\n",
       "    <tr>\n",
       "      <th>project_name</th>\n",
       "      <td>project_name</td>\n",
       "      <td>APOLLO-OV</td>\n",
       "    </tr>\n",
       "  </tbody>\n",
       "</table>\n",
       "</div>"
      ],
      "text/plain": [
       "                                                                         name\n",
       "program_name  program_name  Applied Proteogenomics OrganizationaL Learning...\n",
       "project_name  project_name                                          APOLLO-OV"
      ]
     },
     "execution_count": 5,
     "metadata": {},
     "output_type": "execute_result"
    }
   ],
   "source": [
    "program_project"
   ]
  },
  {
   "cell_type": "markdown",
   "metadata": {},
   "source": [
    "# Case - Matrix"
   ]
  },
  {
   "cell_type": "code",
   "execution_count": 8,
   "metadata": {},
   "outputs": [
    {
     "name": "stdout",
     "output_type": "stream",
     "text": [
      "Sending query.\n"
     ]
    }
   ],
   "source": [
    "speciment_data = query_pdc(query= query_biospecimen, variables=variables)\n",
    "matrix = json.loads(speciment_data.content)['data'][\"biospecimenPerStudy\"]\n",
    "biospecimen_df = pd.DataFrame(matrix)"
   ]
  },
  {
   "cell_type": "code",
   "execution_count": 9,
   "metadata": {},
   "outputs": [
    {
     "data": {
      "application/vnd.microsoft.datawrangler.viewer.v0+json": {
       "columns": [
        {
         "name": "index",
         "rawType": "int64",
         "type": "integer"
        },
        {
         "name": "aliquot_id",
         "rawType": "object",
         "type": "string"
        },
        {
         "name": "sample_id",
         "rawType": "object",
         "type": "string"
        },
        {
         "name": "case_id",
         "rawType": "object",
         "type": "string"
        },
        {
         "name": "aliquot_submitter_id",
         "rawType": "object",
         "type": "string"
        },
        {
         "name": "sample_submitter_id",
         "rawType": "object",
         "type": "string"
        },
        {
         "name": "case_submitter_id",
         "rawType": "object",
         "type": "string"
        },
        {
         "name": "aliquot_status",
         "rawType": "object",
         "type": "string"
        },
        {
         "name": "case_status",
         "rawType": "object",
         "type": "string"
        },
        {
         "name": "sample_status",
         "rawType": "object",
         "type": "string"
        },
        {
         "name": "project_name",
         "rawType": "object",
         "type": "string"
        },
        {
         "name": "sample_type",
         "rawType": "object",
         "type": "string"
        },
        {
         "name": "disease_type",
         "rawType": "object",
         "type": "string"
        },
        {
         "name": "primary_site",
         "rawType": "object",
         "type": "string"
        },
        {
         "name": "pool",
         "rawType": "object",
         "type": "string"
        },
        {
         "name": "taxon",
         "rawType": "object",
         "type": "string"
        },
        {
         "name": "externalReferences",
         "rawType": "object",
         "type": "unknown"
        }
       ],
       "ref": "8bd24b12-0e90-4cd1-a88f-3ec36961044e",
       "rows": [
        [
         "0",
         "8e0f2f47-b770-4f81-bbbe-e7cb6770c2a7",
         "caaeef62-32b7-480e-b4a5-87e90db1244c",
         "1074972a-dddc-45d1-985c-3253f063a478",
         "AP-NXG9",
         "AP-NXG9",
         "AP-NXG9",
         "Qualified",
         "Qualified",
         "Qualified",
         "APOLLO-OV",
         "Metastatic",
         "Epithelial Neoplasms, NOS",
         "Ovary",
         "No",
         "Homo sapiens",
         "[]"
        ],
        [
         "1",
         "036178d2-d8d4-4937-96cd-6045c9056661",
         "36d2bb76-9b84-4b4d-915a-d1a8885313c4",
         "c748755b-e001-4244-be38-b581d81c8ea5",
         "Withheld",
         "Withheld",
         "Withheld",
         "Disqualified",
         "Disqualified",
         "Qualified",
         "APOLLO-OV",
         "Not Reported",
         "Other",
         "Not Reported",
         "No",
         "Homo sapiens",
         "[]"
        ],
        [
         "2",
         "b2cd7dff-a47e-483b-b1a7-ef8b7a5a8538",
         "0c407b32-baae-4b42-a7be-4015a230ea0b",
         "5073e46b-53cf-4771-bf65-392b48f04f52",
         "Pool",
         "Pool",
         "Pool",
         "Qualified",
         "Qualified",
         "Qualified",
         "APOLLO-OV",
         "Not Reported",
         "Other",
         "Not Reported",
         "Yes",
         "Homo sapiens",
         "[]"
        ],
        [
         "3",
         "46c575d2-6d9e-42a7-bbc2-d7612d147f26",
         "5f6e677a-d83c-4256-8e7c-6be2ad2616e7",
         "33b95c97-4216-474c-85bf-2dfd671a7f34",
         "AP-BTE5",
         "AP-BTE5",
         "AP-BTE5",
         "Qualified",
         "Qualified",
         "Qualified",
         "APOLLO-OV",
         "Primary Tumor",
         "Epithelial Neoplasms, NOS",
         "Ovary",
         "No",
         "Homo sapiens",
         "[]"
        ],
        [
         "4",
         "a9327779-17d2-402d-b15f-2b1ca8183b88",
         "db543259-6fc9-486d-a48c-3f216da2699b",
         "0917e0cd-4a2e-4f22-b4da-379b76ec91c7",
         "AP-LU5F",
         "AP-LU5F",
         "AP-LU5F",
         "Qualified",
         "Qualified",
         "Qualified",
         "APOLLO-OV",
         "Metastatic",
         "Epithelial Neoplasms, NOS",
         "Ovary",
         "No",
         "Homo sapiens",
         "[]"
        ],
        [
         "5",
         "2faec1f4-83b3-491b-9069-86c6cd56c5c9",
         "622861fc-a2ef-4d63-997c-26e7e4bad89f",
         "1e6a6cdf-48e3-46b8-af60-67971d2af4a8",
         "AP-Y8GF",
         "AP-Y8GF",
         "AP-Y8GF",
         "Qualified",
         "Qualified",
         "Qualified",
         "APOLLO-OV",
         "Primary Tumor",
         "Epithelial Neoplasms, NOS",
         "Ovary",
         "No",
         "Homo sapiens",
         "[]"
        ],
        [
         "6",
         "94eaf6e9-58ad-4f57-a1f5-9a7a7d3a24dd",
         "b0cca42d-35b5-4f7a-8c8c-43505d677fe2",
         "21687007-7847-4bdd-9989-376751a2745d",
         "AP-NUWU",
         "AP-NUWU",
         "AP-NUWU",
         "Qualified",
         "Qualified",
         "Qualified",
         "APOLLO-OV",
         "Metastatic",
         "Epithelial Neoplasms, NOS",
         "Ovary",
         "No",
         "Homo sapiens",
         "[]"
        ],
        [
         "7",
         "e44e5d16-4f39-4f2b-8f79-57e9bf06c50d",
         "9e9aed14-ab05-4242-b9ff-fd8e5d8b792c",
         "e0fd70c9-9234-488e-ac55-05cf0bd32445",
         "AP-K8H3",
         "AP-K8H3",
         "AP-K8H3",
         "Qualified",
         "Qualified",
         "Qualified",
         "APOLLO-OV",
         "Primary Tumor",
         "Epithelial Neoplasms, NOS",
         "Ovary",
         "No",
         "Homo sapiens",
         "[]"
        ],
        [
         "8",
         "d3ed2afb-604b-4c40-849a-7c9d687b328e",
         "52a1117f-0ca5-431a-bcd0-6f6bb3f0fe34",
         "c238bf4b-951e-426b-9a3f-ebd458324fdd",
         "AP-9XJH",
         "AP-9XJH",
         "AP-9XJH",
         "Qualified",
         "Qualified",
         "Qualified",
         "APOLLO-OV",
         "Primary Tumor",
         "Epithelial Neoplasms, NOS",
         "Ovary",
         "No",
         "Homo sapiens",
         "[]"
        ],
        [
         "9",
         "abd60b71-fc0c-4d88-b322-b621f1eb9066",
         "45d27868-b7ff-4e59-8840-01f965555ea9",
         "7563183a-babf-4e80-93eb-884b460e50b5",
         "AP-5LYL",
         "AP-5LYL",
         "AP-5LYL",
         "Qualified",
         "Qualified",
         "Qualified",
         "APOLLO-OV",
         "Primary Tumor",
         "Epithelial Neoplasms, NOS",
         "Ovary",
         "No",
         "Homo sapiens",
         "[]"
        ],
        [
         "10",
         "eb14648e-7846-46a9-9d07-78ef595c37a6",
         "c808ff9d-757e-4197-a096-1b0bd19e1cea",
         "748b11b2-4201-409a-a127-70901bbaf753",
         "AP-Q3G6",
         "AP-Q3G6",
         "AP-Q3G6",
         "Qualified",
         "Qualified",
         "Qualified",
         "APOLLO-OV",
         "Primary Tumor",
         "Epithelial Neoplasms, NOS",
         "Ovary",
         "No",
         "Homo sapiens",
         "[]"
        ],
        [
         "11",
         "0a0253bd-0297-46b5-a5a2-675973d059a4",
         "533b4d05-db30-4ccc-972b-5fcc4e37e0f8",
         "e8dfbba6-f8a8-49b8-bdd3-020d58225086",
         "AP-VDUX",
         "AP-VDUX",
         "AP-VDUX",
         "Qualified",
         "Qualified",
         "Qualified",
         "APOLLO-OV",
         "Primary Tumor",
         "Epithelial Neoplasms, NOS",
         "Ovary",
         "No",
         "Homo sapiens",
         "[]"
        ],
        [
         "12",
         "438a1c5c-2763-46b0-b8bd-a272a3eb8b1a",
         "7a9217c8-1fb0-43db-b2a6-92c9ca06d9c2",
         "4d8abf12-c0ff-42c7-9071-ec0c401d86b8",
         "AP-GHSZ",
         "AP-GHSZ",
         "AP-GHSZ",
         "Qualified",
         "Qualified",
         "Qualified",
         "APOLLO-OV",
         "Primary Tumor",
         "Epithelial Neoplasms, NOS",
         "Ovary",
         "No",
         "Homo sapiens",
         "[]"
        ],
        [
         "13",
         "d42a6089-f985-4f62-bff2-191827c6cefe",
         "3d052234-2915-400d-97ed-4a3b7ca3c03f",
         "daf43cdf-ddd4-469b-ac39-0e18d9f55680",
         "AP-BLDZ",
         "AP-BLDZ",
         "AP-BLDZ",
         "Qualified",
         "Qualified",
         "Qualified",
         "APOLLO-OV",
         "Primary Tumor",
         "Epithelial Neoplasms, NOS",
         "Ovary",
         "No",
         "Homo sapiens",
         "[]"
        ],
        [
         "14",
         "b63615d3-c458-4d43-abe2-b9b318da2526",
         "84f1d642-77b5-4115-895c-cac925b440b1",
         "bd7da0ea-74f5-4ba6-9bf2-9ef46f128400",
         "AP-ST4A",
         "AP-ST4A",
         "AP-ST4A",
         "Qualified",
         "Qualified",
         "Qualified",
         "APOLLO-OV",
         "Primary Tumor",
         "Epithelial Neoplasms, NOS",
         "Ovary",
         "No",
         "Homo sapiens",
         "[]"
        ],
        [
         "15",
         "568240e0-4fb7-49e0-a1fa-40e775ad1800",
         "a70a3758-f756-4bac-969e-57a2fa6ca9b4",
         "2d6fe8f1-7d5e-4291-b600-016a9128ec07",
         "AP-H7JB",
         "AP-H7JB",
         "AP-H7JB",
         "Qualified",
         "Qualified",
         "Qualified",
         "APOLLO-OV",
         "Primary Tumor",
         "Epithelial Neoplasms, NOS",
         "Ovary",
         "No",
         "Homo sapiens",
         "[]"
        ],
        [
         "16",
         "b18fcaad-2b47-40c2-a081-85ca3969073d",
         "d82ed8ca-7887-48e0-87d5-ce90098c9576",
         "060be498-35da-489b-8dc4-b494a4362ba7",
         "AP-U8GL",
         "AP-U8GL",
         "AP-U8GL",
         "Qualified",
         "Qualified",
         "Qualified",
         "APOLLO-OV",
         "Metastatic",
         "Epithelial Neoplasms, NOS",
         "Retroperitoneum and peritoneum",
         "No",
         "Homo sapiens",
         "[]"
        ],
        [
         "17",
         "ae646bff-c217-487d-94e0-1b0d08b1014f",
         "f24a9b63-52d4-4630-baa9-49f8df3e3170",
         "05f131f6-d50c-46b2-ac6f-b0080c431fc9",
         "AP-LM5A",
         "AP-LM5A",
         "AP-LM5A",
         "Qualified",
         "Qualified",
         "Qualified",
         "APOLLO-OV",
         "Primary Tumor",
         "Epithelial Neoplasms, NOS",
         "Ovary",
         "No",
         "Homo sapiens",
         "[]"
        ],
        [
         "18",
         "76e93c31-f645-4c73-a28c-45b53845c401",
         "77ed6081-2bce-4b0c-a25e-776bf13c2d52",
         "9f9b391a-fb62-4662-b7a9-4e889922bea6",
         "AP-VU4P",
         "AP-VU4P",
         "AP-VU4P",
         "Qualified",
         "Qualified",
         "Qualified",
         "APOLLO-OV",
         "Primary Tumor",
         "Epithelial Neoplasms, NOS",
         "Ovary",
         "No",
         "Homo sapiens",
         "[]"
        ],
        [
         "19",
         "46e09f5c-8c96-436b-b97a-45246f42d691",
         "2bb814f3-d16e-4acc-aa00-e35e42e46f34",
         "a6470475-425c-415c-9526-919cc05c1dd0",
         "AP-HGLV",
         "AP-HGLV",
         "AP-HGLV",
         "Qualified",
         "Qualified",
         "Qualified",
         "APOLLO-OV",
         "Primary Tumor",
         "Epithelial Neoplasms, NOS",
         "Ovary",
         "No",
         "Homo sapiens",
         "[]"
        ],
        [
         "20",
         "e16ce23f-f2de-47c7-a12f-a3b16bd08ef6",
         "070090e2-d91d-4194-a1b3-664415b2ed8b",
         "442cc7d4-e097-4024-8c52-e8ac3a9adeb2",
         "AP-6597",
         "AP-6597",
         "AP-6597",
         "Qualified",
         "Qualified",
         "Qualified",
         "APOLLO-OV",
         "Primary Tumor",
         "Epithelial Neoplasms, NOS",
         "Ovary",
         "No",
         "Homo sapiens",
         "[]"
        ],
        [
         "21",
         "9bb3ed25-96db-41cc-b8a7-ad0185ed0a99",
         "66247683-95fa-45b6-be98-a1e9a3374647",
         "198a8e20-3b51-46fc-911b-16b7f15a056a",
         "AP-V8ER",
         "AP-V8ER",
         "AP-V8ER",
         "Qualified",
         "Qualified",
         "Qualified",
         "APOLLO-OV",
         "Primary Tumor",
         "Epithelial Neoplasms, NOS",
         "Ovary",
         "No",
         "Homo sapiens",
         "[]"
        ],
        [
         "22",
         "c33f72a1-bcda-462c-9b8d-b8d4bf20f1da",
         "a860b04c-b216-413a-8995-d0533388b6e8",
         "edd2b77d-3d92-456f-b2b2-86eb15c719f5",
         "AP-4CJB",
         "AP-4CJB",
         "AP-4CJB",
         "Qualified",
         "Qualified",
         "Qualified",
         "APOLLO-OV",
         "Primary Tumor",
         "Epithelial Neoplasms, NOS",
         "Ovary",
         "No",
         "Homo sapiens",
         "[]"
        ],
        [
         "23",
         "4a23ccdf-8bfb-477a-a179-536128502a14",
         "700a7fc0-b73f-44d2-847b-0cb5d9dfc9ea",
         "844e3ed0-054b-44c5-9fcf-3db0cedd4765",
         "AP-Y2QC",
         "AP-Y2QC",
         "AP-Y2QC",
         "Qualified",
         "Qualified",
         "Qualified",
         "APOLLO-OV",
         "Primary Tumor",
         "Epithelial Neoplasms, NOS",
         "Ovary",
         "No",
         "Homo sapiens",
         "[]"
        ],
        [
         "24",
         "a75bc3cb-4c57-4386-ba35-25ba0166e469",
         "d73daf4b-972c-47ce-a772-9c0adef52832",
         "0b43f2dd-a9a2-40da-820e-08c39a987240",
         "AP-2WDT",
         "AP-2WDT",
         "AP-2WDT",
         "Qualified",
         "Qualified",
         "Qualified",
         "APOLLO-OV",
         "Primary Tumor",
         "Epithelial Neoplasms, NOS",
         "Ovary",
         "No",
         "Homo sapiens",
         "[]"
        ],
        [
         "25",
         "9e5e0d1f-8bd7-46fb-b799-24aa04405428",
         "89d7b58e-7171-42ab-9dd2-1193c4d89e18",
         "9914c5e8-64ce-4c28-9747-2d8a4966b52d",
         "AP-A7NA",
         "AP-A7NA",
         "AP-A7NA",
         "Qualified",
         "Qualified",
         "Qualified",
         "APOLLO-OV",
         "Primary Tumor",
         "Epithelial Neoplasms, NOS",
         "Ovary",
         "No",
         "Homo sapiens",
         "[]"
        ],
        [
         "26",
         "6c4b84c9-81da-4cbd-8cb5-3029aca87052",
         "cda53262-70e8-4991-bd70-117b0e2ef8b6",
         "2e43d633-d666-4fb4-9e6d-bb38b730f7a7",
         "AP-3Z9T",
         "AP-3Z9T",
         "AP-3Z9T",
         "Qualified",
         "Qualified",
         "Qualified",
         "APOLLO-OV",
         "Primary Tumor",
         "Epithelial Neoplasms, NOS",
         "Ovary",
         "No",
         "Homo sapiens",
         "[]"
        ],
        [
         "27",
         "15ffd781-0a7a-4ddb-876c-16f7ab286a08",
         "b172af14-66c8-4acb-9869-f815cb9c3d5e",
         "c5fb44eb-0a09-4c81-868b-c33a23c94aff",
         "AP-UMDV",
         "AP-UMDV",
         "AP-UMDV",
         "Qualified",
         "Qualified",
         "Qualified",
         "APOLLO-OV",
         "Metastatic",
         "Epithelial Neoplasms, NOS",
         "Ovary",
         "No",
         "Homo sapiens",
         "[]"
        ],
        [
         "28",
         "8b4ae17c-b95f-420e-95b3-1f83fa94cb79",
         "8660a582-f2a8-476c-9508-9271b2847e55",
         "1a7e432f-458d-41e5-a317-297cff958ebd",
         "AP-JP6D",
         "AP-JP6D",
         "AP-JP6D",
         "Qualified",
         "Qualified",
         "Qualified",
         "APOLLO-OV",
         "Primary Tumor",
         "Epithelial Neoplasms, NOS",
         "Ovary",
         "No",
         "Homo sapiens",
         "[]"
        ],
        [
         "29",
         "867fedaf-f32a-4193-b8e5-f8b45f37812e",
         "08bb757c-08b6-4e46-bb67-dcd651481c0b",
         "2e358ae5-0a61-4743-8eee-3afbc3526c3f",
         "AP-VAY8",
         "AP-VAY8",
         "AP-VAY8",
         "Qualified",
         "Qualified",
         "Qualified",
         "APOLLO-OV",
         "Primary Tumor",
         "Epithelial Neoplasms, NOS",
         "Ovary",
         "No",
         "Homo sapiens",
         "[]"
        ],
        [
         "30",
         "bd147840-d018-4ef6-8fbc-980fe14b6104",
         "e98d7e1f-4008-4ba2-abe8-139049c95614",
         "460a61a0-a81e-4d76-9d63-d3d489aadb6d",
         "AP-BNSQ",
         "AP-BNSQ",
         "AP-BNSQ",
         "Qualified",
         "Qualified",
         "Qualified",
         "APOLLO-OV",
         "Primary Tumor",
         "Epithelial Neoplasms, NOS",
         "Ovary",
         "No",
         "Homo sapiens",
         "[]"
        ],
        [
         "31",
         "fabef5ed-1a45-46f4-8586-b207db5b8219",
         "ded3f65e-661d-40bc-a29f-e3a8517422d4",
         "b3332b97-15ac-417b-a5e0-8506ee76f4db",
         "AP-8Y28",
         "AP-8Y28",
         "AP-8Y28",
         "Qualified",
         "Qualified",
         "Qualified",
         "APOLLO-OV",
         "Primary Tumor",
         "Epithelial Neoplasms, NOS",
         "Ovary",
         "No",
         "Homo sapiens",
         "[]"
        ],
        [
         "32",
         "06a2f973-55a6-4608-9e02-3257b927963e",
         "f9b407e2-cc24-4214-bd6c-88b37e66f0a9",
         "fab0eafa-dbae-46a2-a5cb-af02c58a5a53",
         "AP-Y45Q",
         "AP-Y45Q",
         "AP-Y45Q",
         "Qualified",
         "Qualified",
         "Qualified",
         "APOLLO-OV",
         "Metastatic",
         "Epithelial Neoplasms, NOS",
         "Retroperitoneum and peritoneum",
         "No",
         "Homo sapiens",
         "[]"
        ],
        [
         "33",
         "cd411023-dc8c-4a6d-93fb-33a4842d6fe8",
         "2993847e-a4db-4fb2-b5cc-998d865fe534",
         "0c2e445b-d857-4f03-afef-5756d8a4bd59",
         "AP-SFXB",
         "AP-SFXB",
         "AP-SFXB",
         "Qualified",
         "Qualified",
         "Qualified",
         "APOLLO-OV",
         "Metastatic",
         "Epithelial Neoplasms, NOS",
         "Ovary",
         "No",
         "Homo sapiens",
         "[]"
        ],
        [
         "34",
         "acef6858-c3be-43f4-aa97-44c59fac1958",
         "87faeae0-fb22-4ecb-95ef-ab6b5ded1876",
         "a0c9f50d-dc1e-4d89-82d8-0d62e022353c",
         "AP-ZFDX",
         "AP-ZFDX",
         "AP-ZFDX",
         "Qualified",
         "Qualified",
         "Qualified",
         "APOLLO-OV",
         "Primary Tumor",
         "Epithelial Neoplasms, NOS",
         "Ovary",
         "No",
         "Homo sapiens",
         "[]"
        ],
        [
         "35",
         "5ba986ae-58e5-4992-bd7d-9c535e569826",
         "a82d19b0-5ad2-41be-8343-7d01853aa79a",
         "6d7c28ad-8da7-4130-a411-86544bb9a88d",
         "AP-JHFW",
         "AP-JHFW",
         "AP-JHFW",
         "Qualified",
         "Qualified",
         "Qualified",
         "APOLLO-OV",
         "Primary Tumor",
         "Epithelial Neoplasms, NOS",
         "Ovary",
         "No",
         "Homo sapiens",
         "[]"
        ],
        [
         "36",
         "7f4de912-d317-4693-bdc2-a8ee9cb6471f",
         "60029043-b9da-4fa1-98b7-26decf427aa7",
         "72135d8f-b8c7-450d-8aa2-3a93460bcbe9",
         "AP-THJN",
         "AP-THJN",
         "AP-THJN",
         "Qualified",
         "Qualified",
         "Qualified",
         "APOLLO-OV",
         "Primary Tumor",
         "Epithelial Neoplasms, NOS",
         "Ovary",
         "No",
         "Homo sapiens",
         "[]"
        ],
        [
         "37",
         "f39df0c0-f974-4d0b-8de9-ce9c75f50164",
         "d8e12e6a-ae20-45a8-b052-54b5460a9c94",
         "4f60f6fe-3a2f-463c-b461-ce3d94b1f88b",
         "AP-VTP7",
         "AP-VTP7",
         "AP-VTP7",
         "Qualified",
         "Qualified",
         "Qualified",
         "APOLLO-OV",
         "Primary Tumor",
         "Epithelial Neoplasms, NOS",
         "Ovary",
         "No",
         "Homo sapiens",
         "[]"
        ],
        [
         "38",
         "ab2e9f6b-9de4-472a-b74e-ec8baa1df495",
         "2aa97f86-fda5-4c7b-a511-bbaf9476a043",
         "baa518e0-9875-428e-8d97-e58db0cc5afa",
         "AP-7UAJ",
         "AP-7UAJ",
         "AP-7UAJ",
         "Qualified",
         "Qualified",
         "Qualified",
         "APOLLO-OV",
         "Primary Tumor",
         "Epithelial Neoplasms, NOS",
         "Ovary",
         "No",
         "Homo sapiens",
         "[]"
        ],
        [
         "39",
         "4e219ed3-817c-4163-91ea-f058504b0130",
         "25a4e475-7e3a-4e30-96a8-085d002f3ed0",
         "36922769-86f9-41b8-804c-d429b5b4ec49",
         "AP-HPAT",
         "AP-HPAT",
         "AP-HPAT",
         "Qualified",
         "Qualified",
         "Qualified",
         "APOLLO-OV",
         "Primary Tumor",
         "Epithelial Neoplasms, NOS",
         "Ovary",
         "No",
         "Homo sapiens",
         "[]"
        ],
        [
         "40",
         "54360352-2188-40f3-95a8-efdb88261a6b",
         "08756af9-e12c-4559-b199-34fe8f6763ea",
         "10d90586-dd16-4802-8fc3-943d634bd159",
         "AP-8HQW",
         "AP-8HQW",
         "AP-8HQW",
         "Qualified",
         "Qualified",
         "Qualified",
         "APOLLO-OV",
         "Primary Tumor",
         "Epithelial Neoplasms, NOS",
         "Ovary",
         "No",
         "Homo sapiens",
         "[]"
        ],
        [
         "41",
         "f5fd9ecb-ee25-418f-8120-e18264acabb0",
         "41784562-eda2-4071-baa3-53f7864a5fc1",
         "254c8295-f26a-4136-86e2-e25603f30975",
         "AP-CBTL",
         "AP-CBTL",
         "AP-CBTL",
         "Qualified",
         "Qualified",
         "Qualified",
         "APOLLO-OV",
         "Primary Tumor",
         "Epithelial Neoplasms, NOS",
         "Ovary",
         "No",
         "Homo sapiens",
         "[]"
        ],
        [
         "42",
         "c7830172-5f6d-41d2-a75f-e744006966da",
         "3da94405-9849-423f-8ade-9baba8c6f5d1",
         "9ce9d652-8ff3-4c37-b654-d0ae0c389d2b",
         "AP-7LE5",
         "AP-7LE5",
         "AP-7LE5",
         "Qualified",
         "Qualified",
         "Qualified",
         "APOLLO-OV",
         "Primary Tumor",
         "Epithelial Neoplasms, NOS",
         "Ovary",
         "No",
         "Homo sapiens",
         "[]"
        ],
        [
         "43",
         "e2734eb6-fb0c-48bb-a318-c5ecb79c6e4d",
         "a47e6816-345e-4b0d-ae8f-c76537d85c01",
         "3699088f-e58d-4ab5-a29e-db35b34df437",
         "AP-WHM9",
         "AP-WHM9",
         "AP-WHM9",
         "Qualified",
         "Qualified",
         "Qualified",
         "APOLLO-OV",
         "Metastatic",
         "Epithelial Neoplasms, NOS",
         "Ovary",
         "No",
         "Homo sapiens",
         "[]"
        ],
        [
         "44",
         "7dfbfc39-d69c-432e-8f3a-41ef4fa387a7",
         "cd023b21-e4c1-4db9-ae50-a193e068557f",
         "b0052421-1605-4ca2-bce5-c910f44cb3c3",
         "AP-UQ96",
         "AP-UQ96",
         "AP-UQ96",
         "Qualified",
         "Qualified",
         "Qualified",
         "APOLLO-OV",
         "Metastatic",
         "Epithelial Neoplasms, NOS",
         "Ovary",
         "No",
         "Homo sapiens",
         "[]"
        ],
        [
         "45",
         "34e44806-1011-45ee-b7fa-a3d672b7cc6c",
         "6a3343e7-99a3-4bfe-8954-40ffef8b5c62",
         "16e45362-30c9-4fde-98cf-6dd1f5e98c91",
         "AP-64ZX",
         "AP-64ZX",
         "AP-64ZX",
         "Qualified",
         "Qualified",
         "Qualified",
         "APOLLO-OV",
         "Metastatic",
         "Epithelial Neoplasms, NOS",
         "Ovary",
         "No",
         "Homo sapiens",
         "[]"
        ],
        [
         "46",
         "0a6fa136-73cd-4675-bb78-9ec02de791bc",
         "d50a79bc-f56d-4a9c-83c5-fd45f20b0fdf",
         "7912c8d5-5bbd-411b-a35b-5e04b3fbd7b8",
         "AP-AFJ3",
         "AP-AFJ3",
         "AP-AFJ3",
         "Qualified",
         "Qualified",
         "Qualified",
         "APOLLO-OV",
         "Metastatic",
         "Epithelial Neoplasms, NOS",
         "Ovary",
         "No",
         "Homo sapiens",
         "[]"
        ],
        [
         "47",
         "c2c100a6-91ce-4c5e-a932-53511943e6bc",
         "d3d47759-2034-442e-b607-8308b3a4c84e",
         "38598c3d-fbd3-4ebb-960e-a1221882970e",
         "AP-BH2T",
         "AP-BH2T",
         "AP-BH2T",
         "Qualified",
         "Qualified",
         "Qualified",
         "APOLLO-OV",
         "Primary Tumor",
         "Epithelial Neoplasms, NOS",
         "Ovary",
         "No",
         "Homo sapiens",
         "[]"
        ],
        [
         "48",
         "5264238a-3c2e-4174-8f0d-a69ae541bcc1",
         "cd256a58-d93d-4054-a82d-302d14cc55d2",
         "4a8ba861-10c1-422d-8582-e0ab2271559c",
         "AP-P5L4",
         "AP-P5L4",
         "AP-P5L4",
         "Qualified",
         "Qualified",
         "Qualified",
         "APOLLO-OV",
         "Metastatic",
         "Epithelial Neoplasms, NOS",
         "Ovary",
         "No",
         "Homo sapiens",
         "[]"
        ],
        [
         "49",
         "b3a33fc6-41ba-445a-9971-d45f1f9b8acc",
         "fa0816d4-d133-460c-8d98-05e43a76072a",
         "2aefe5be-5ada-4559-85d7-3ad23fd60b7c",
         "AP-T2J2",
         "AP-T2J2",
         "AP-T2J2",
         "Qualified",
         "Qualified",
         "Qualified",
         "APOLLO-OV",
         "Metastatic",
         "Epithelial Neoplasms, NOS",
         "Ovary",
         "No",
         "Homo sapiens",
         "[]"
        ]
       ],
       "shape": {
        "columns": 16,
        "rows": 72
       }
      },
      "text/html": [
       "<div>\n",
       "<style scoped>\n",
       "    .dataframe tbody tr th:only-of-type {\n",
       "        vertical-align: middle;\n",
       "    }\n",
       "\n",
       "    .dataframe tbody tr th {\n",
       "        vertical-align: top;\n",
       "    }\n",
       "\n",
       "    .dataframe thead th {\n",
       "        text-align: right;\n",
       "    }\n",
       "</style>\n",
       "<table border=\"1\" class=\"dataframe\">\n",
       "  <thead>\n",
       "    <tr style=\"text-align: right;\">\n",
       "      <th></th>\n",
       "      <th>aliquot_id</th>\n",
       "      <th>sample_id</th>\n",
       "      <th>case_id</th>\n",
       "      <th>aliquot_submitter_id</th>\n",
       "      <th>sample_submitter_id</th>\n",
       "      <th>case_submitter_id</th>\n",
       "      <th>aliquot_status</th>\n",
       "      <th>case_status</th>\n",
       "      <th>sample_status</th>\n",
       "      <th>project_name</th>\n",
       "      <th>sample_type</th>\n",
       "      <th>disease_type</th>\n",
       "      <th>primary_site</th>\n",
       "      <th>pool</th>\n",
       "      <th>taxon</th>\n",
       "      <th>externalReferences</th>\n",
       "    </tr>\n",
       "  </thead>\n",
       "  <tbody>\n",
       "    <tr>\n",
       "      <th>0</th>\n",
       "      <td>8e0f2f47-b770-4f81-bbbe-e7cb6770c2a7</td>\n",
       "      <td>caaeef62-32b7-480e-b4a5-87e90db1244c</td>\n",
       "      <td>1074972a-dddc-45d1-985c-3253f063a478</td>\n",
       "      <td>AP-NXG9</td>\n",
       "      <td>AP-NXG9</td>\n",
       "      <td>AP-NXG9</td>\n",
       "      <td>Qualified</td>\n",
       "      <td>Qualified</td>\n",
       "      <td>Qualified</td>\n",
       "      <td>APOLLO-OV</td>\n",
       "      <td>Metastatic</td>\n",
       "      <td>Epithelial Neoplasms, NOS</td>\n",
       "      <td>Ovary</td>\n",
       "      <td>No</td>\n",
       "      <td>Homo sapiens</td>\n",
       "      <td>[]</td>\n",
       "    </tr>\n",
       "    <tr>\n",
       "      <th>1</th>\n",
       "      <td>036178d2-d8d4-4937-96cd-6045c9056661</td>\n",
       "      <td>36d2bb76-9b84-4b4d-915a-d1a8885313c4</td>\n",
       "      <td>c748755b-e001-4244-be38-b581d81c8ea5</td>\n",
       "      <td>Withheld</td>\n",
       "      <td>Withheld</td>\n",
       "      <td>Withheld</td>\n",
       "      <td>Disqualified</td>\n",
       "      <td>Disqualified</td>\n",
       "      <td>Qualified</td>\n",
       "      <td>APOLLO-OV</td>\n",
       "      <td>Not Reported</td>\n",
       "      <td>Other</td>\n",
       "      <td>Not Reported</td>\n",
       "      <td>No</td>\n",
       "      <td>Homo sapiens</td>\n",
       "      <td>[]</td>\n",
       "    </tr>\n",
       "    <tr>\n",
       "      <th>2</th>\n",
       "      <td>b2cd7dff-a47e-483b-b1a7-ef8b7a5a8538</td>\n",
       "      <td>0c407b32-baae-4b42-a7be-4015a230ea0b</td>\n",
       "      <td>5073e46b-53cf-4771-bf65-392b48f04f52</td>\n",
       "      <td>Pool</td>\n",
       "      <td>Pool</td>\n",
       "      <td>Pool</td>\n",
       "      <td>Qualified</td>\n",
       "      <td>Qualified</td>\n",
       "      <td>Qualified</td>\n",
       "      <td>APOLLO-OV</td>\n",
       "      <td>Not Reported</td>\n",
       "      <td>Other</td>\n",
       "      <td>Not Reported</td>\n",
       "      <td>Yes</td>\n",
       "      <td>Homo sapiens</td>\n",
       "      <td>[]</td>\n",
       "    </tr>\n",
       "    <tr>\n",
       "      <th>3</th>\n",
       "      <td>46c575d2-6d9e-42a7-bbc2-d7612d147f26</td>\n",
       "      <td>5f6e677a-d83c-4256-8e7c-6be2ad2616e7</td>\n",
       "      <td>33b95c97-4216-474c-85bf-2dfd671a7f34</td>\n",
       "      <td>AP-BTE5</td>\n",
       "      <td>AP-BTE5</td>\n",
       "      <td>AP-BTE5</td>\n",
       "      <td>Qualified</td>\n",
       "      <td>Qualified</td>\n",
       "      <td>Qualified</td>\n",
       "      <td>APOLLO-OV</td>\n",
       "      <td>Primary Tumor</td>\n",
       "      <td>Epithelial Neoplasms, NOS</td>\n",
       "      <td>Ovary</td>\n",
       "      <td>No</td>\n",
       "      <td>Homo sapiens</td>\n",
       "      <td>[]</td>\n",
       "    </tr>\n",
       "    <tr>\n",
       "      <th>4</th>\n",
       "      <td>a9327779-17d2-402d-b15f-2b1ca8183b88</td>\n",
       "      <td>db543259-6fc9-486d-a48c-3f216da2699b</td>\n",
       "      <td>0917e0cd-4a2e-4f22-b4da-379b76ec91c7</td>\n",
       "      <td>AP-LU5F</td>\n",
       "      <td>AP-LU5F</td>\n",
       "      <td>AP-LU5F</td>\n",
       "      <td>Qualified</td>\n",
       "      <td>Qualified</td>\n",
       "      <td>Qualified</td>\n",
       "      <td>APOLLO-OV</td>\n",
       "      <td>Metastatic</td>\n",
       "      <td>Epithelial Neoplasms, NOS</td>\n",
       "      <td>Ovary</td>\n",
       "      <td>No</td>\n",
       "      <td>Homo sapiens</td>\n",
       "      <td>[]</td>\n",
       "    </tr>\n",
       "    <tr>\n",
       "      <th>...</th>\n",
       "      <td>...</td>\n",
       "      <td>...</td>\n",
       "      <td>...</td>\n",
       "      <td>...</td>\n",
       "      <td>...</td>\n",
       "      <td>...</td>\n",
       "      <td>...</td>\n",
       "      <td>...</td>\n",
       "      <td>...</td>\n",
       "      <td>...</td>\n",
       "      <td>...</td>\n",
       "      <td>...</td>\n",
       "      <td>...</td>\n",
       "      <td>...</td>\n",
       "      <td>...</td>\n",
       "      <td>...</td>\n",
       "    </tr>\n",
       "    <tr>\n",
       "      <th>67</th>\n",
       "      <td>24783778-0a86-48ee-854c-7674e6db61c1</td>\n",
       "      <td>b05fdf86-ebd0-4d22-aca8-afa052fda6fe</td>\n",
       "      <td>3ed35984-1e18-4abb-a6f7-5d54c3b72b0b</td>\n",
       "      <td>AP-S868</td>\n",
       "      <td>AP-S868</td>\n",
       "      <td>AP-S868</td>\n",
       "      <td>Qualified</td>\n",
       "      <td>Qualified</td>\n",
       "      <td>Qualified</td>\n",
       "      <td>APOLLO-OV</td>\n",
       "      <td>Metastatic</td>\n",
       "      <td>Epithelial Neoplasms, NOS</td>\n",
       "      <td>Retroperitoneum and peritoneum</td>\n",
       "      <td>No</td>\n",
       "      <td>Homo sapiens</td>\n",
       "      <td>[]</td>\n",
       "    </tr>\n",
       "    <tr>\n",
       "      <th>68</th>\n",
       "      <td>7a4d9a44-a732-43cf-81de-eb49c3fae7ac</td>\n",
       "      <td>61d050ad-897b-4191-bc7c-a2bd8f7d30a7</td>\n",
       "      <td>374ca885-4caf-4746-8b7b-6502f20db7bf</td>\n",
       "      <td>AP-QF6B</td>\n",
       "      <td>AP-QF6B</td>\n",
       "      <td>AP-QF6B</td>\n",
       "      <td>Qualified</td>\n",
       "      <td>Qualified</td>\n",
       "      <td>Qualified</td>\n",
       "      <td>APOLLO-OV</td>\n",
       "      <td>Metastatic</td>\n",
       "      <td>Epithelial Neoplasms, NOS</td>\n",
       "      <td>Retroperitoneum and peritoneum</td>\n",
       "      <td>No</td>\n",
       "      <td>Homo sapiens</td>\n",
       "      <td>[]</td>\n",
       "    </tr>\n",
       "    <tr>\n",
       "      <th>69</th>\n",
       "      <td>15aa13ba-f78c-4054-b14a-c9ac597db480</td>\n",
       "      <td>1c226126-b22c-4af2-a3ae-9d02105ced58</td>\n",
       "      <td>29e826a7-c73b-4e73-8142-e0fa292e69ad</td>\n",
       "      <td>AP-5HPQ</td>\n",
       "      <td>AP-5HPQ</td>\n",
       "      <td>AP-5HPQ</td>\n",
       "      <td>Qualified</td>\n",
       "      <td>Qualified</td>\n",
       "      <td>Qualified</td>\n",
       "      <td>APOLLO-OV</td>\n",
       "      <td>Primary Tumor</td>\n",
       "      <td>Epithelial Neoplasms, NOS</td>\n",
       "      <td>Ovary</td>\n",
       "      <td>No</td>\n",
       "      <td>Homo sapiens</td>\n",
       "      <td>[]</td>\n",
       "    </tr>\n",
       "    <tr>\n",
       "      <th>70</th>\n",
       "      <td>7e929f11-07cb-4772-9619-c29b9215477e</td>\n",
       "      <td>b959a064-a08a-44f0-b406-5a5f7961443b</td>\n",
       "      <td>8a9f6cb9-31c5-4714-a4fc-393c7404036a</td>\n",
       "      <td>AP-CRYQ</td>\n",
       "      <td>AP-CRYQ</td>\n",
       "      <td>AP-CRYQ</td>\n",
       "      <td>Qualified</td>\n",
       "      <td>Qualified</td>\n",
       "      <td>Qualified</td>\n",
       "      <td>APOLLO-OV</td>\n",
       "      <td>Primary Tumor</td>\n",
       "      <td>Epithelial Neoplasms, NOS</td>\n",
       "      <td>Ovary</td>\n",
       "      <td>No</td>\n",
       "      <td>Homo sapiens</td>\n",
       "      <td>[]</td>\n",
       "    </tr>\n",
       "    <tr>\n",
       "      <th>71</th>\n",
       "      <td>081c5d05-4a95-498e-a281-cae5c39956e3</td>\n",
       "      <td>24151986-366b-404e-a534-da703e57e7e5</td>\n",
       "      <td>23f97dcc-3f35-4a5b-9a06-4597e2f7253a</td>\n",
       "      <td>AP-JL4G</td>\n",
       "      <td>AP-JL4G</td>\n",
       "      <td>AP-JL4G</td>\n",
       "      <td>Qualified</td>\n",
       "      <td>Qualified</td>\n",
       "      <td>Qualified</td>\n",
       "      <td>APOLLO-OV</td>\n",
       "      <td>Primary Tumor</td>\n",
       "      <td>Epithelial Neoplasms, NOS</td>\n",
       "      <td>Ovary</td>\n",
       "      <td>No</td>\n",
       "      <td>Homo sapiens</td>\n",
       "      <td>[]</td>\n",
       "    </tr>\n",
       "  </tbody>\n",
       "</table>\n",
       "<p>72 rows × 16 columns</p>\n",
       "</div>"
      ],
      "text/plain": [
       "                              aliquot_id  \\\n",
       "0   8e0f2f47-b770-4f81-bbbe-e7cb6770c2a7   \n",
       "1   036178d2-d8d4-4937-96cd-6045c9056661   \n",
       "2   b2cd7dff-a47e-483b-b1a7-ef8b7a5a8538   \n",
       "3   46c575d2-6d9e-42a7-bbc2-d7612d147f26   \n",
       "4   a9327779-17d2-402d-b15f-2b1ca8183b88   \n",
       "..                                   ...   \n",
       "67  24783778-0a86-48ee-854c-7674e6db61c1   \n",
       "68  7a4d9a44-a732-43cf-81de-eb49c3fae7ac   \n",
       "69  15aa13ba-f78c-4054-b14a-c9ac597db480   \n",
       "70  7e929f11-07cb-4772-9619-c29b9215477e   \n",
       "71  081c5d05-4a95-498e-a281-cae5c39956e3   \n",
       "\n",
       "                               sample_id  \\\n",
       "0   caaeef62-32b7-480e-b4a5-87e90db1244c   \n",
       "1   36d2bb76-9b84-4b4d-915a-d1a8885313c4   \n",
       "2   0c407b32-baae-4b42-a7be-4015a230ea0b   \n",
       "3   5f6e677a-d83c-4256-8e7c-6be2ad2616e7   \n",
       "4   db543259-6fc9-486d-a48c-3f216da2699b   \n",
       "..                                   ...   \n",
       "67  b05fdf86-ebd0-4d22-aca8-afa052fda6fe   \n",
       "68  61d050ad-897b-4191-bc7c-a2bd8f7d30a7   \n",
       "69  1c226126-b22c-4af2-a3ae-9d02105ced58   \n",
       "70  b959a064-a08a-44f0-b406-5a5f7961443b   \n",
       "71  24151986-366b-404e-a534-da703e57e7e5   \n",
       "\n",
       "                                 case_id aliquot_submitter_id  \\\n",
       "0   1074972a-dddc-45d1-985c-3253f063a478              AP-NXG9   \n",
       "1   c748755b-e001-4244-be38-b581d81c8ea5             Withheld   \n",
       "2   5073e46b-53cf-4771-bf65-392b48f04f52                 Pool   \n",
       "3   33b95c97-4216-474c-85bf-2dfd671a7f34              AP-BTE5   \n",
       "4   0917e0cd-4a2e-4f22-b4da-379b76ec91c7              AP-LU5F   \n",
       "..                                   ...                  ...   \n",
       "67  3ed35984-1e18-4abb-a6f7-5d54c3b72b0b              AP-S868   \n",
       "68  374ca885-4caf-4746-8b7b-6502f20db7bf              AP-QF6B   \n",
       "69  29e826a7-c73b-4e73-8142-e0fa292e69ad              AP-5HPQ   \n",
       "70  8a9f6cb9-31c5-4714-a4fc-393c7404036a              AP-CRYQ   \n",
       "71  23f97dcc-3f35-4a5b-9a06-4597e2f7253a              AP-JL4G   \n",
       "\n",
       "   sample_submitter_id case_submitter_id aliquot_status   case_status  \\\n",
       "0              AP-NXG9           AP-NXG9      Qualified     Qualified   \n",
       "1             Withheld          Withheld   Disqualified  Disqualified   \n",
       "2                 Pool              Pool      Qualified     Qualified   \n",
       "3              AP-BTE5           AP-BTE5      Qualified     Qualified   \n",
       "4              AP-LU5F           AP-LU5F      Qualified     Qualified   \n",
       "..                 ...               ...            ...           ...   \n",
       "67             AP-S868           AP-S868      Qualified     Qualified   \n",
       "68             AP-QF6B           AP-QF6B      Qualified     Qualified   \n",
       "69             AP-5HPQ           AP-5HPQ      Qualified     Qualified   \n",
       "70             AP-CRYQ           AP-CRYQ      Qualified     Qualified   \n",
       "71             AP-JL4G           AP-JL4G      Qualified     Qualified   \n",
       "\n",
       "   sample_status project_name    sample_type               disease_type  \\\n",
       "0      Qualified    APOLLO-OV     Metastatic  Epithelial Neoplasms, NOS   \n",
       "1      Qualified    APOLLO-OV   Not Reported                      Other   \n",
       "2      Qualified    APOLLO-OV   Not Reported                      Other   \n",
       "3      Qualified    APOLLO-OV  Primary Tumor  Epithelial Neoplasms, NOS   \n",
       "4      Qualified    APOLLO-OV     Metastatic  Epithelial Neoplasms, NOS   \n",
       "..           ...          ...            ...                        ...   \n",
       "67     Qualified    APOLLO-OV     Metastatic  Epithelial Neoplasms, NOS   \n",
       "68     Qualified    APOLLO-OV     Metastatic  Epithelial Neoplasms, NOS   \n",
       "69     Qualified    APOLLO-OV  Primary Tumor  Epithelial Neoplasms, NOS   \n",
       "70     Qualified    APOLLO-OV  Primary Tumor  Epithelial Neoplasms, NOS   \n",
       "71     Qualified    APOLLO-OV  Primary Tumor  Epithelial Neoplasms, NOS   \n",
       "\n",
       "                      primary_site pool         taxon externalReferences  \n",
       "0                            Ovary   No  Homo sapiens                 []  \n",
       "1                     Not Reported   No  Homo sapiens                 []  \n",
       "2                     Not Reported  Yes  Homo sapiens                 []  \n",
       "3                            Ovary   No  Homo sapiens                 []  \n",
       "4                            Ovary   No  Homo sapiens                 []  \n",
       "..                             ...  ...           ...                ...  \n",
       "67  Retroperitoneum and peritoneum   No  Homo sapiens                 []  \n",
       "68  Retroperitoneum and peritoneum   No  Homo sapiens                 []  \n",
       "69                           Ovary   No  Homo sapiens                 []  \n",
       "70                           Ovary   No  Homo sapiens                 []  \n",
       "71                           Ovary   No  Homo sapiens                 []  \n",
       "\n",
       "[72 rows x 16 columns]"
      ]
     },
     "execution_count": 9,
     "metadata": {},
     "output_type": "execute_result"
    }
   ],
   "source": [
    "biospecimen_df"
   ]
  },
  {
   "cell_type": "markdown",
   "metadata": {},
   "source": [
    "# Case"
   ]
  },
  {
   "cell_type": "code",
   "execution_count": 10,
   "metadata": {},
   "outputs": [
    {
     "name": "stdout",
     "output_type": "stream",
     "text": [
      "Sending query.\n"
     ]
    }
   ],
   "source": [
    "case_data = query_pdc(query= query_case, variables=variables)\n",
    "matrix = json.loads(case_data.content)['data']['case']\n",
    "case_data_df = pd.DataFrame(matrix)\n",
    "case = pd.merge(left=biospecimen_df, right=case_data_df, on=\"case_id\")\n",
    "columns_to_keep = [col for col in case.columns if not col.endswith('_y')]\n",
    "case = case[columns_to_keep]\n",
    "case = case.rename(columns={col: col.rstrip('_x') for col in case.columns})\n",
    "to_remove = list(set(case.columns).difference(case_header))\n",
    "case.drop(columns=to_remove, inplace=True)\n",
    "case = case.reindex(columns=case_header)"
   ]
  },
  {
   "cell_type": "code",
   "execution_count": null,
   "metadata": {},
   "outputs": [],
   "source": [
    "case"
   ]
  },
  {
   "cell_type": "markdown",
   "metadata": {},
   "source": [
    "# Sample Data"
   ]
  },
  {
   "cell_type": "code",
   "execution_count": null,
   "metadata": {},
   "outputs": [],
   "source": [
    "matrix = json.loads(case_data.content)['data']['case']\n",
    "case_data_df = pd.DataFrame(matrix)\n",
    "sample_df = for_sample(matrix = matrix)\n",
    "to_remove = list(set(sample_df.columns).difference(sample_header))\n",
    "samples = sample_df.drop(columns=to_remove)\n",
    "samples = samples.reindex(columns=sample_header)"
   ]
  },
  {
   "cell_type": "markdown",
   "metadata": {},
   "source": [
    "# Extended version of Case - Sample"
   ]
  },
  {
   "cell_type": "code",
   "execution_count": 13,
   "metadata": {},
   "outputs": [],
   "source": [
    "tmp = pd.merge(\n",
    "    left=biospecimen_df,\n",
    "    right=sample_df,\n",
    "    left_on=\"sample_id\",\n",
    "    right_on=\"sample_id\",\n",
    "    indicator=True\n",
    "    )\n",
    "tmp = tmp.rename(columns={col: col.rstrip('_x') for col in tmp.columns})\n",
    "new_columns = [\n",
    "    \"aliquot_id\", \"aliquot_submitter_id\", \"sample_id\", \"sample_submitter_id\",\n",
    "    \"case_id\",\"case_submitter_id\", \"sample_type\",\n",
    "    \"disease_type\", \"primary_site\", \"tissue_type\"\n",
    "    ]\n",
    "\n",
    "to_remove = list(set(tmp.columns).difference(new_columns))\n",
    "tmp = tmp.drop(columns=to_remove)\n",
    "case_matrix = tmp.reindex(columns=new_columns)"
   ]
  },
  {
   "cell_type": "markdown",
   "metadata": {},
   "source": [
    "# Demographic"
   ]
  },
  {
   "cell_type": "code",
   "execution_count": 16,
   "metadata": {},
   "outputs": [
    {
     "name": "stdout",
     "output_type": "stream",
     "text": [
      "Sending query.\n"
     ]
    }
   ],
   "source": [
    "variables['study_id'] = study_df['study_id'][0]\n",
    "demographics_data = query_pdc(query= query_demographcis, variables=variables)\n",
    "matrix = json.loads(demographics_data.content)['data'][\"paginatedCaseDemographicsPerStudy\"][\"caseDemographicsPerStudy\"]\n",
    "demographics_data = pd.DataFrame(matrix[1:], columns=matrix[0])\n",
    "demographics_data['demographic_id'] = demographics_data['demographics'].apply(lambda diag_list: diag_list[0]['demographic_id'] if diag_list else None)\n",
    "demographics_df = for_demographics(matrix = matrix)\n",
    "demographic = pd.merge(left=demographics_data, right=demographics_df, on=\"demographic_id\")\n",
    "to_remove = list(set(demographic.columns).difference(demographics_header))\n",
    "demographic.drop(columns=to_remove, inplace=True)\n",
    "demographic = demographic.reindex(columns=demographics_header)"
   ]
  },
  {
   "cell_type": "markdown",
   "metadata": {},
   "source": [
    "# Diagnosis"
   ]
  },
  {
   "cell_type": "code",
   "execution_count": 17,
   "metadata": {},
   "outputs": [
    {
     "name": "stdout",
     "output_type": "stream",
     "text": [
      "Sending query.\n"
     ]
    }
   ],
   "source": [
    "diagnose_data = query_pdc(query= query_diagnose, variables=variables)\n",
    "matrix = json.loads(diagnose_data.content)['data'][\"paginatedCaseDiagnosesPerStudy\"][\"caseDiagnosesPerStudy\"]\n",
    "diagnose_data_df = pd.DataFrame(matrix[1:], columns=matrix[0])\n",
    "diagnose_data_df['diagnosis_id'] = diagnose_data_df['diagnoses'].apply(lambda diag_list: diag_list[0]['diagnosis_id'] if diag_list else None)\n",
    "diagnose_df = for_diagnosis(matrix = matrix)\n",
    "diagnosis = pd.merge(left=diagnose_data_df, right=diagnose_df, on=\"diagnosis_id\")\n",
    "to_remove = list(set(diagnosis.columns).difference(diagnose_header))\n",
    "diagnosis.drop(columns=to_remove, inplace=True)\n",
    "diagnosis = diagnosis.reindex(columns=diagnose_header)"
   ]
  },
  {
   "cell_type": "markdown",
   "metadata": {},
   "source": [
    "# Exposure"
   ]
  },
  {
   "cell_type": "code",
   "execution_count": null,
   "metadata": {},
   "outputs": [
    {
     "name": "stdout",
     "output_type": "stream",
     "text": [
      "Sending query.\n"
     ]
    }
   ],
   "source": [
    "exposure_data = query_pdc(query= query_exposure, variables= variables)\n",
    "matrix = json.loads(exposure_data.content)['data'][\"paginatedCaseExposuresPerStudy\"][\"caseExposuresPerStudy\"]\n",
    "exposure_data_df = pd.DataFrame(matrix[1:], columns=matrix[0])\n",
    "exposure_data_df['exposure_id'] = exposure_data_df['exposures'].apply(lambda diag_list: diag_list[0]['exposure_id'] if diag_list else None)\n",
    "exposure_df = for_exposure(matrix = matrix)\n",
    "exposure = pd.merge(left=exposure_data_df, right=exposure_df, on=\"exposure_id\")\n",
    "to_remove = list(set(exposure.columns).difference(exposure_header))\n",
    "exposure = exposure.drop(columns=to_remove)\n",
    "exposure = exposure.reindex(columns=exposure_header)"
   ]
  },
  {
   "cell_type": "markdown",
   "metadata": {},
   "source": [
    "# Treatment"
   ]
  },
  {
   "cell_type": "code",
   "execution_count": null,
   "metadata": {},
   "outputs": [
    {
     "name": "stdout",
     "output_type": "stream",
     "text": [
      "Sending query.\n"
     ]
    }
   ],
   "source": [
    "treatments_data = query_pdc(query= query_treatments, variables=variables)\n",
    "matrix = json.loads(treatments_data.content)['data'][\"paginatedCaseTreatmentsPerStudy\"][\"caseTreatmentsPerStudy\"]\n",
    "treatments_data_df = pd.DataFrame(matrix[1:], columns=matrix[0])\n",
    "treatments_data_df['treatment_id'] = treatments_data_df['treatments'].apply(lambda diag_list: diag_list[0]['treatment_id'] if diag_list else None)\n",
    "treatments_df = for_treatment(matrix = matrix)\n",
    "treatments = pd.merge(left=treatments_data_df, right=treatments_df, on=\"treatment_id\")\n",
    "to_remove = list(set(treatments.columns).difference(treatment_header))\n",
    "treatments = treatments.drop(columns=to_remove)\n",
    "treatments = treatments.reindex(columns=treatment_header)"
   ]
  },
  {
   "cell_type": "markdown",
   "metadata": {},
   "source": [
    "# Follow up"
   ]
  },
  {
   "cell_type": "code",
   "execution_count": 20,
   "metadata": {},
   "outputs": [
    {
     "name": "stdout",
     "output_type": "stream",
     "text": [
      "Sending query.\n"
     ]
    }
   ],
   "source": [
    "follow_up_data = query_pdc(query= query_follow_up, variables=variables)\n",
    "matrix = json.loads(follow_up_data.content)['data'][\"paginatedCaseFollowUpsPerStudy\"]['caseFollowUpsPerStudy']\n",
    "follow_up_data_df = pd.DataFrame(matrix[1:], columns=matrix[0])\n",
    "follow_up_data_df['follow_up_id'] = follow_up_data_df['follow_ups'].apply(lambda diag_list: diag_list[0]['follow_up_id'] if diag_list else None)\n",
    "follow_up_df = for_follows_up(matrix = matrix)\n",
    "follow_ups = pd.merge(left=follow_up_data_df, right=follow_up_df, on=\"follow_up_id\")\n",
    "to_remove = list(set(follow_ups.columns).difference(follow_ups_header))\n",
    "follow_ups = follow_ups.drop(columns=to_remove)\n",
    "follow_ups = follow_ups.reindex(columns=follow_ups_header)"
   ]
  },
  {
   "cell_type": "markdown",
   "metadata": {},
   "source": [
    "# Study"
   ]
  },
  {
   "cell_type": "code",
   "execution_count": 21,
   "metadata": {},
   "outputs": [],
   "source": [
    "matrix = json.loads(study_data.content)['data']['study']\n",
    "study_df = pd.DataFrame(matrix)\n",
    "to_remove = list(set(study_df.columns).difference(study_header))\n",
    "study = study_df.drop(columns=to_remove)\n",
    "study = study.reindex(columns=study_header)"
   ]
  },
  {
   "cell_type": "markdown",
   "metadata": {},
   "source": [
    "# Aliquots"
   ]
  },
  {
   "cell_type": "code",
   "execution_count": 22,
   "metadata": {},
   "outputs": [
    {
     "name": "stdout",
     "output_type": "stream",
     "text": [
      "Sending query.\n"
     ]
    }
   ],
   "source": [
    "aliquots_data = query_pdc(query= query_aliquots, variables=variables)\n",
    "matrix = json.loads(aliquots_data.content)[\"data\"][\"paginatedCasesSamplesAliquots\"][\"casesSamplesAliquots\"]\n",
    "aliquots_df = pd.DataFrame(matrix)\n",
    "aliquots_df['gdc_sample_id'] = aliquots_df['samples'].apply(lambda diag_list: diag_list[0]['gdc_sample_id'] if diag_list else None)\n",
    "tmp = for_aliquots(matrix= matrix)\n",
    "aliquots_df = pd.merge(left=biospecimen_df, right=tmp, on = \"aliquot_submitter_id\",suffixes= (\"\", \"_\"))\n",
    "to_remove = list(set(aliquots_df.columns).difference(aliquots_header))\n",
    "aliquots_df = aliquots_df.drop(columns=to_remove)\n",
    "aliquots = aliquots_df.reindex(columns=aliquots_header)"
   ]
  },
  {
   "cell_type": "markdown",
   "metadata": {},
   "source": [
    "# Protocol"
   ]
  },
  {
   "cell_type": "code",
   "execution_count": 23,
   "metadata": {},
   "outputs": [
    {
     "name": "stdout",
     "output_type": "stream",
     "text": [
      "Sending query.\n"
     ]
    }
   ],
   "source": [
    "protocol_Data = query_pdc(query= query_protocol, variables=variables)\n",
    "matrix = json.loads(protocol_Data.content)['data']['protocolPerStudy']\n",
    "protocol_df = pd.DataFrame(matrix)\n",
    "to_remove = list(set(protocol_df.columns).difference(protocol_header))\n",
    "protocol = protocol_df.drop(columns=to_remove)\n",
    "protocol = protocol.reindex(columns=protocol_header)"
   ]
  },
  {
   "cell_type": "markdown",
   "metadata": {},
   "source": [
    "# Experimental Metadata"
   ]
  },
  {
   "cell_type": "code",
   "execution_count": 24,
   "metadata": {},
   "outputs": [
    {
     "name": "stdout",
     "output_type": "stream",
     "text": [
      "Sending query.\n"
     ]
    }
   ],
   "source": [
    "expMetadat_data_2 = query_pdc(query= query_expMetadata_2, variables=variables)\n",
    "matrix = json.loads(expMetadat_data_2.content)['data'][\"studyExperimentalDesign\"]\n",
    "expMetadat_data_2 = pd.DataFrame(matrix)\n",
    "to_remove = list(set(expMetadat_data_2.columns).difference(exp_metadata_header))\n",
    "Exp_Metadata = expMetadat_data_2.drop(columns=to_remove)\n",
    "Exp_Metadata = Exp_Metadata.reindex(columns=exp_metadata_header)"
   ]
  },
  {
   "cell_type": "markdown",
   "metadata": {},
   "source": [
    "# File Metadata"
   ]
  },
  {
   "cell_type": "code",
   "execution_count": 28,
   "metadata": {},
   "outputs": [
    {
     "name": "stdout",
     "output_type": "stream",
     "text": [
      "Sending query.\n"
     ]
    }
   ],
   "source": [
    "file_metadata_data = query_pdc(query= query_file_metadata, variables=variables)\n",
    "matrix = json.loads(file_metadata_data.content)['data'][\"filesPerStudy\"]\n",
    "file_metadata_df = pd.DataFrame(matrix)\n",
    "to_remove = list(set(file_metadata_df.columns).difference(file_metadata_header))\n",
    "file_metada = file_metadata_df.drop(columns=to_remove)\n",
    "file_metada = file_metada.reindex(columns=file_metadata_header)"
   ]
  },
  {
   "cell_type": "markdown",
   "metadata": {},
   "source": [
    "# Create a workbook including every dataframe"
   ]
  },
  {
   "cell_type": "code",
   "execution_count": 39,
   "metadata": {},
   "outputs": [],
   "source": [
    "study_information = {\n",
    "    #'Readme': pd.DataFrame(readme),\n",
    "    \"Project-Program\": pd.DataFrame(program_project),\n",
    "    \"Case-Matrix\": pd.DataFrame(case_matrix),\n",
    "    \"Case\": pd.DataFrame(case),\n",
    "    \"Demographic\": pd.DataFrame(demographic),\n",
    "    \"Diagnosis\": pd.DataFrame(diagnosis),\n",
    "    \"Exposure\": pd.DataFrame(exposure),\n",
    "    \"Family-History\": pd.DataFrame(), #need to find the data\n",
    "    \"Treatments\": pd.DataFrame(treatments),\n",
    "    \"Follow-up\": pd.DataFrame(follow_ups),\n",
    "    \"Sample\": pd.DataFrame(samples), #need to redo\n",
    "    \"Aliquots\": pd.DataFrame(aliquots), #need to redo\n",
    "    \"Study\": pd.DataFrame(study),\n",
    "    \"Protocol\": pd.DataFrame(protocol),\n",
    "    \"Exp_Metadata\": pd.DataFrame(Exp_Metadata),\n",
    "    \"File-Metadata\": pd.DataFrame(file_metada)\n",
    "}\n",
    "filename = f\"Study_Data_{variables['pdc_study_identifier']}.xlsx\"\n",
    "with pd.ExcelWriter(filename, engine='xlsxwriter') as writer:\n",
    "    for sheet_name, df in study_information.items():\n",
    "        if df is not None and not df.empty:  # Check if the DataFrame is not None and not empty\n",
    "            df.to_excel(writer, sheet_name=sheet_name, index=False)\n",
    "        else:\n",
    "            # Create an empty DataFrame and write it to the sheet\n",
    "            empty_df = pd.DataFrame(columns= df.columns, index=range(10)).fillna('data not available')\n",
    "            empty_df.to_excel(writer, sheet_name=sheet_name, index=False)"
   ]
  }
 ],
 "metadata": {
  "kernelspec": {
   "display_name": "pdc_env",
   "language": "python",
   "name": "python3"
  },
  "language_info": {
   "codemirror_mode": {
    "name": "ipython",
    "version": 3
   },
   "file_extension": ".py",
   "mimetype": "text/x-python",
   "name": "python",
   "nbconvert_exporter": "python",
   "pygments_lexer": "ipython3",
   "version": "3.13.3"
  }
 },
 "nbformat": 4,
 "nbformat_minor": 2
}
